{
  "cells": [
    {
      "cell_type": "markdown",
      "metadata": {
        "id": "view-in-github"
      },
      "source": [
        "[![Open In Colab](https://colab.research.google.com/assets/colab-badge.svg)](https://colab.research.google.com/github/camenduru/AutoStudio-jupyter/blob/main/AutoStudio_jupyter.ipynb)"
      ]
    },
    {
      "cell_type": "code",
      "execution_count": null,
      "metadata": {
        "id": "VjYy0F2gZIPR"
      },
      "outputs": [],
      "source": [
        "%cd /content\n",
        "!git clone https://github.com/donahowe/AutoStudio\n",
        "%cd /content/AutoStudio\n",
        "\n",
        "!wget https://huggingface.co/camenduru/YoloWorld-EfficientSAM/resolve/main/efficient_sam_s_gpu.jit -O /content/AutoStudio/DETECT_SAM/pretrain/efficient_sam_s_gpu.jit\n",
        "!wget https://huggingface.co/alexgenovese/background-workflow/resolve/main/groundingdino_swint_ogc.pth -O /content/AutoStudio/DETECT_SAM/Grounding-DINO/groundingdino_swint_ogc.pth\n",
        "\n",
        "!pip install xformers==0.0.26.post1 accelerate==0.23.0 diffusers==0.21.2 transformers==4.30.2 matplotlib==3.8.3 annotated-types==0.6.0 inflect==6.0.4 pydantic==1.10.10 gradio==3.35.2\n",
        "!pip install git+https://github.com/openai/CLIP.git opencv-python==4.8.0.76 supervision==0.19.0 addict==2.4.0 yapf==0.40.2 pycocotools==2.0.7 timm==0.9.16 einops==0.7.0\n",
        "\n",
        "!aria2c --console-log-level=error -c -x 16 -s 16 -k 1M https://huggingface.co/h94/IP-Adapter/resolve/main/models/ip-adapter-plus_sd15.bin -d /content/AutoStudio/IP-Adapter/models -o ip-adapter-plus_sd15.bin\n",
        "!aria2c --console-log-level=error -c -x 16 -s 16 -k 1M https://huggingface.co/h94/IP-Adapter/raw/main/models/image_encoder/config.json -d /content/AutoStudio/IP-Adapter/models/image_encoder -o config.json\n",
        "!aria2c --console-log-level=error -c -x 16 -s 16 -k 1M https://huggingface.co/h94/IP-Adapter/resolve/main/models/image_encoder/pytorch_model.bin -d /content/AutoStudio/IP-Adapter/models/image_encoder -o pytorch_model.bin\n",
        "\n",
        "%cd /content/AutoStudio/DETECT_SAM/Grounding-DINO\n",
        "!pip install -e . --no-build-isolation"
      ]
    },
    {
      "cell_type": "code",
      "execution_count": null,
      "metadata": {},
      "outputs": [],
      "source": [
        "# Edit /content/AutoStudio/cache/demo.json\n",
        "\n",
        "%cd /content/AutoStudio\n",
        "!python run.py"
      ]
    }
  ],
  "metadata": {
    "accelerator": "GPU",
    "colab": {
      "gpuType": "T4",
      "provenance": []
    },
    "kernelspec": {
      "display_name": "Python 3",
      "name": "python3"
    },
    "language_info": {
      "name": "python"
    }
  },
  "nbformat": 4,
  "nbformat_minor": 0
}
